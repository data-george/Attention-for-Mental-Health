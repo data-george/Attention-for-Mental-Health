{
  "nbformat": 4,
  "nbformat_minor": 0,
  "metadata": {
    "colab": {
      "name": "Attention for Mental Health Part 1 - Data Wrangling and EDA",
      "provenance": [],
      "collapsed_sections": []
    },
    "kernelspec": {
      "name": "python3",
      "display_name": "Python 3"
    },
    "language_info": {
      "name": "python"
    }
  },
  "cells": [
    {
      "cell_type": "code",
      "metadata": {
        "colab": {
          "base_uri": "https://localhost:8080/",
          "height": 0
        },
        "id": "FY6aismsmyIW",
        "outputId": "23e2352b-0252-4fc9-d083-7684ac3bd966"
      },
      "source": [
        "import tensorflow as tf\n",
        "print(tf.__version__)"
      ],
      "execution_count": 1,
      "outputs": [
        {
          "output_type": "stream",
          "text": [
            "2.4.1\n"
          ],
          "name": "stdout"
        }
      ]
    },
    {
      "cell_type": "code",
      "metadata": {
        "id": "GpEDOhkii0zF"
      },
      "source": [
        "import pandas as pd\n",
        "import numpy as np\n",
        "import math\n",
        "import re\n",
        "from tensorflow.keras import layers\n",
        "import tensorflow_datasets as tfds\n",
        "import os"
      ],
      "execution_count": 2,
      "outputs": []
    },
    {
      "cell_type": "markdown",
      "metadata": {
        "id": "pFxFh5TVC0W9"
      },
      "source": [
        "## To follow up on the previous model on detecting Covid-19 on Chest X-Rays and trying to come up with other helpful solutions to improve people's lives during these hard times, we will focus on another aspect of this Pandemic - Mental Health. The intent here is to build a question and answer transformer model to answer people's questions in  regards to mental health. Mental Health is another crucial component of overall well being and many people are likely to show symptoms or exacerbate existing symptoms during the pandemic due to periods of paranoia, extended isolation, etc. It would be helpful to have an easily accessible chatbot or question and answer model, possibly through a website interface, that can provide interactive answers to mental health questions from users. The key of this project is to show the potential of a transformer solution for this problem, for which a real solution would have to be vetted by a mental health/medical and data science teams. The project uses the paper \"Attention Is All You Need\" by Ashish Vaswani, Noam Shazeer, Niki Parmar, Jakob Uszkoreit, Llion Jones, Aidan N. Gomez, Lukasz Kaiser, Illia Polosukhin or ArXiv.org submitted on 12 Jun 2017 (v1), last revised 6 Dec 2017, v5 to create the question and answer model. <br><br>\n",
        "\n",
        "## The Dataset consists of 98 question and answer pairs and was prepared by https://www.kaggle.com/narendrageek with the following acknowledgements:\n",
        "* https://www.thekimfoundation.org/faqs/\n",
        "* https://www.mhanational.org/frequently-asked-questions\n",
        "* https://www.wellnessinmind.org/frequently-asked-questions/\n",
        "* https://www.heretohelp.bc.ca/questions-and-answers"
      ]
    },
    {
      "cell_type": "code",
      "metadata": {
        "colab": {
          "base_uri": "https://localhost:8080/",
          "height": 0
        },
        "id": "0ZhTeqRTm0K-",
        "outputId": "024cf7f5-21f7-4b8d-90c2-173ce6c0fe90"
      },
      "source": [
        "# mount drive\n",
        "\n",
        "from google.colab import drive\n",
        "drive.mount('/gdrive')"
      ],
      "execution_count": 3,
      "outputs": [
        {
          "output_type": "stream",
          "text": [
            "Mounted at /gdrive\n"
          ],
          "name": "stdout"
        }
      ]
    },
    {
      "cell_type": "code",
      "metadata": {
        "id": "ZliN1TkSpOzk"
      },
      "source": [
        "# It's a zip file so we will use the appropriate python tools\n",
        "\n",
        "import zipfile\n",
        "\n",
        "with zipfile.ZipFile(\"/gdrive/MyDrive/archive.zip\",\"r\") as zip_ref:\n",
        "   zip_ref.extractall('/gdrive/MyDrive/archive/Mental_Health_FAQ.csv')"
      ],
      "execution_count": 4,
      "outputs": []
    },
    {
      "cell_type": "code",
      "metadata": {
        "id": "drBBF42BpV4P"
      },
      "source": [
        "data_path = '/gdrive/MyDrive/archive/Mental_Health_FAQ.csv/'\n",
        "fileName = 'Mental_Health_FAQ.csv'"
      ],
      "execution_count": 5,
      "outputs": []
    },
    {
      "cell_type": "code",
      "metadata": {
        "id": "SQogcLdTsLiq"
      },
      "source": [
        "# Use OS library to open\n",
        "\n",
        "df = pd.read_csv(os.path.join(data_path, fileName), encoding = None)\n",
        " "
      ],
      "execution_count": 6,
      "outputs": []
    },
    {
      "cell_type": "code",
      "metadata": {
        "colab": {
          "base_uri": "https://localhost:8080/",
          "height": 195
        },
        "id": "iy99Lt-IugI9",
        "outputId": "d3c14d5a-ea46-4d5b-8d2f-c4e74c9d32f1"
      },
      "source": [
        "# Examine first five entries\n",
        "\n",
        "df.head()"
      ],
      "execution_count": 7,
      "outputs": [
        {
          "output_type": "execute_result",
          "data": {
            "text/html": [
              "<div>\n",
              "<style scoped>\n",
              "    .dataframe tbody tr th:only-of-type {\n",
              "        vertical-align: middle;\n",
              "    }\n",
              "\n",
              "    .dataframe tbody tr th {\n",
              "        vertical-align: top;\n",
              "    }\n",
              "\n",
              "    .dataframe thead th {\n",
              "        text-align: right;\n",
              "    }\n",
              "</style>\n",
              "<table border=\"1\" class=\"dataframe\">\n",
              "  <thead>\n",
              "    <tr style=\"text-align: right;\">\n",
              "      <th></th>\n",
              "      <th>Question_ID</th>\n",
              "      <th>Questions</th>\n",
              "      <th>Answers</th>\n",
              "    </tr>\n",
              "  </thead>\n",
              "  <tbody>\n",
              "    <tr>\n",
              "      <th>0</th>\n",
              "      <td>1590140</td>\n",
              "      <td>What does it mean to have a mental illness?</td>\n",
              "      <td>Mental illnesses are health conditions that di...</td>\n",
              "    </tr>\n",
              "    <tr>\n",
              "      <th>1</th>\n",
              "      <td>2110618</td>\n",
              "      <td>Who does mental illness affect?</td>\n",
              "      <td>It is estimated that mental illness affects 1 ...</td>\n",
              "    </tr>\n",
              "    <tr>\n",
              "      <th>2</th>\n",
              "      <td>6361820</td>\n",
              "      <td>What causes mental illness?</td>\n",
              "      <td>It is estimated that mental illness affects 1 ...</td>\n",
              "    </tr>\n",
              "    <tr>\n",
              "      <th>3</th>\n",
              "      <td>9434130</td>\n",
              "      <td>What are some of the warning signs of mental i...</td>\n",
              "      <td>Symptoms of mental health disorders vary depen...</td>\n",
              "    </tr>\n",
              "    <tr>\n",
              "      <th>4</th>\n",
              "      <td>7657263</td>\n",
              "      <td>Can people with mental illness recover?</td>\n",
              "      <td>When healing from mental illness, early identi...</td>\n",
              "    </tr>\n",
              "  </tbody>\n",
              "</table>\n",
              "</div>"
            ],
            "text/plain": [
              "   Question_ID  ...                                            Answers\n",
              "0      1590140  ...  Mental illnesses are health conditions that di...\n",
              "1      2110618  ...  It is estimated that mental illness affects 1 ...\n",
              "2      6361820  ...  It is estimated that mental illness affects 1 ...\n",
              "3      9434130  ...  Symptoms of mental health disorders vary depen...\n",
              "4      7657263  ...  When healing from mental illness, early identi...\n",
              "\n",
              "[5 rows x 3 columns]"
            ]
          },
          "metadata": {
            "tags": []
          },
          "execution_count": 7
        }
      ]
    },
    {
      "cell_type": "code",
      "metadata": {
        "colab": {
          "base_uri": "https://localhost:8080/",
          "height": 0
        },
        "id": "1QkvqwmkwYhk",
        "outputId": "19a6446c-8985-4b5a-cc6c-b267565bc98f"
      },
      "source": [
        "# Check file types, number of rows, etc.\n",
        "\n",
        "df.info()"
      ],
      "execution_count": 8,
      "outputs": [
        {
          "output_type": "stream",
          "text": [
            "<class 'pandas.core.frame.DataFrame'>\n",
            "RangeIndex: 98 entries, 0 to 97\n",
            "Data columns (total 3 columns):\n",
            " #   Column       Non-Null Count  Dtype \n",
            "---  ------       --------------  ----- \n",
            " 0   Question_ID  98 non-null     int64 \n",
            " 1   Questions    98 non-null     object\n",
            " 2   Answers      98 non-null     object\n",
            "dtypes: int64(1), object(2)\n",
            "memory usage: 2.4+ KB\n"
          ],
          "name": "stdout"
        }
      ]
    },
    {
      "cell_type": "code",
      "metadata": {
        "colab": {
          "base_uri": "https://localhost:8080/",
          "height": 154
        },
        "id": "E0mlrKs7wdxz",
        "outputId": "b9522881-ddd7-4103-d0f9-422f514dd9b4"
      },
      "source": [
        "# Take a look at the answers which have more content\n",
        "\n",
        "df['Answers'][0]"
      ],
      "execution_count": 9,
      "outputs": [
        {
          "output_type": "execute_result",
          "data": {
            "application/vnd.google.colaboratory.intrinsic+json": {
              "type": "string"
            },
            "text/plain": [
              "'Mental illnesses are health conditions that disrupt a personâ€™s thoughts, emotions, relationships, and daily functioning. They are associated with distress and diminished capacity to engage in the ordinary activities of daily life.\\nMental illnesses fall along a continuum of severity: some are fairly mild and only interfere with some aspects of life, such as certain phobias. On the other end of the spectrum lie serious mental illnesses, which result in major functional impairment and interference with daily life. These include such disorders as major depression, schizophrenia, and bipolar disorder, and may require that the person receives care in a hospital.\\nIt is important to know that mental illnesses are medical conditions that have nothing to do with a personâ€™s character, intelligence, or willpower. Just as diabetes is a disorder of the pancreas, mental illness is a medical condition due to the brainâ€™s biology.\\nSimilarly to how one would treat diabetes with medication and insulin, mental illness is treatable with a combination of medication and social support. These treatments are highly effective, with 70-90 percent of individuals receiving treatment experiencing a reduction in symptoms and an improved quality of life. With the proper treatment, it is very possible for a person with mental illness to be independent and successful.'"
            ]
          },
          "metadata": {
            "tags": []
          },
          "execution_count": 9
        }
      ]
    },
    {
      "cell_type": "code",
      "metadata": {
        "colab": {
          "base_uri": "https://localhost:8080/",
          "height": 154
        },
        "id": "yO4NN75szk1q",
        "outputId": "a80c2394-1265-4879-e410-f0751727d730"
      },
      "source": [
        "# There are some encoding errors we are going to need to fix\n",
        "\n",
        "\n",
        "df['Answers'] = df['Answers'].map(lambda x: x.encode('ascii', errors = 'replace').decode('utf-8'))\n",
        "df['Answers'][0]"
      ],
      "execution_count": 10,
      "outputs": [
        {
          "output_type": "execute_result",
          "data": {
            "application/vnd.google.colaboratory.intrinsic+json": {
              "type": "string"
            },
            "text/plain": [
              "'Mental illnesses are health conditions that disrupt a person???s thoughts, emotions, relationships, and daily functioning. They are associated with distress and diminished capacity to engage in the ordinary activities of daily life.\\nMental illnesses fall along a continuum of severity: some are fairly mild and only interfere with some aspects of life, such as certain phobias. On the other end of the spectrum lie serious mental illnesses, which result in major functional impairment and interference with daily life. These include such disorders as major depression, schizophrenia, and bipolar disorder, and may require that the person receives care in a hospital.\\nIt is important to know that mental illnesses are medical conditions that have nothing to do with a person???s character, intelligence, or willpower. Just as diabetes is a disorder of the pancreas, mental illness is a medical condition due to the brain???s biology.\\nSimilarly to how one would treat diabetes with medication and insulin, mental illness is treatable with a combination of medication and social support. These treatments are highly effective, with 70-90 percent of individuals receiving treatment experiencing a reduction in symptoms and an improved quality of life. With the proper treatment, it is very possible for a person with mental illness to be independent and successful.'"
            ]
          },
          "metadata": {
            "tags": []
          },
          "execution_count": 10
        }
      ]
    },
    {
      "cell_type": "code",
      "metadata": {
        "id": "eEw7Xp8-Jhxw"
      },
      "source": [
        "# Now that the characters are utf-8, let's correct the errors by replacing the strings\n",
        "\n",
        "df['Answers'] = df['Answers'].map(lambda x: x.replace('\\n', ' '))"
      ],
      "execution_count": 11,
      "outputs": []
    },
    {
      "cell_type": "code",
      "metadata": {
        "id": "KRD5wB0LKVId"
      },
      "source": [
        "df['Answers'] = df['Answers'].map(lambda x: x.replace(\"???\", \"'\"))"
      ],
      "execution_count": 12,
      "outputs": []
    },
    {
      "cell_type": "code",
      "metadata": {
        "colab": {
          "base_uri": "https://localhost:8080/",
          "height": 154
        },
        "id": "KtsA0avPE6MS",
        "outputId": "29d448c3-0c17-4dab-f78f-75f4e681474b"
      },
      "source": [
        "df['Answers'][0]"
      ],
      "execution_count": 13,
      "outputs": [
        {
          "output_type": "execute_result",
          "data": {
            "application/vnd.google.colaboratory.intrinsic+json": {
              "type": "string"
            },
            "text/plain": [
              "\"Mental illnesses are health conditions that disrupt a person's thoughts, emotions, relationships, and daily functioning. They are associated with distress and diminished capacity to engage in the ordinary activities of daily life. Mental illnesses fall along a continuum of severity: some are fairly mild and only interfere with some aspects of life, such as certain phobias. On the other end of the spectrum lie serious mental illnesses, which result in major functional impairment and interference with daily life. These include such disorders as major depression, schizophrenia, and bipolar disorder, and may require that the person receives care in a hospital. It is important to know that mental illnesses are medical conditions that have nothing to do with a person's character, intelligence, or willpower. Just as diabetes is a disorder of the pancreas, mental illness is a medical condition due to the brain's biology. Similarly to how one would treat diabetes with medication and insulin, mental illness is treatable with a combination of medication and social support. These treatments are highly effective, with 70-90 percent of individuals receiving treatment experiencing a reduction in symptoms and an improved quality of life. With the proper treatment, it is very possible for a person with mental illness to be independent and successful.\""
            ]
          },
          "metadata": {
            "tags": []
          },
          "execution_count": 13
        }
      ]
    },
    {
      "cell_type": "code",
      "metadata": {
        "id": "ehsA0lW9D1i2",
        "colab": {
          "base_uri": "https://localhost:8080/",
          "height": 35
        },
        "outputId": "23581222-6ab2-412c-a014-43b24e1fd069"
      },
      "source": [
        "df['Questions'][10]"
      ],
      "execution_count": 14,
      "outputs": [
        {
          "output_type": "execute_result",
          "data": {
            "application/vnd.google.colaboratory.intrinsic+json": {
              "type": "string"
            },
            "text/plain": [
              "'How can I find a mental health professional right for my child or myself?'"
            ]
          },
          "metadata": {
            "tags": []
          },
          "execution_count": 14
        }
      ]
    },
    {
      "cell_type": "code",
      "metadata": {
        "id": "nELgBW1K4NCz"
      },
      "source": [
        "# function to format characters and punctuation for processing\n",
        "\n",
        "def preprocess_sentence(sentence):\n",
        "\n",
        "    sentence = sentence.lower().strip()\n",
        "\n",
        "    sentence = re.sub(r\"([?.!,])\", r\" \\1 \", sentence)\n",
        "    sentence = re.sub(r\"[^a-z?.!,']+\", \" \", sentence)\n",
        "    sentence = re.sub(r'[\" \"]+', \" \", sentence)\n",
        "    \n",
        "    return sentence.strip()"
      ],
      "execution_count": 15,
      "outputs": []
    },
    {
      "cell_type": "code",
      "metadata": {
        "id": "wXEDmimPaFEa"
      },
      "source": [
        "# Add start and end tokens to sentences\n",
        "\n",
        "df['Questions'] = [\"<start> \" + preprocess_sentence(sentence) + \" <end>\" for sentence in df['Questions'].values.tolist()]\n",
        "df['Answers'] = [\"<start> \" + preprocess_sentence(sentence) + \" <end>\" for sentence in df['Answers'].values.tolist()]"
      ],
      "execution_count": 16,
      "outputs": []
    },
    {
      "cell_type": "code",
      "metadata": {
        "colab": {
          "base_uri": "https://localhost:8080/",
          "height": 35
        },
        "id": "9osZzJ_h6sVU",
        "outputId": "cd674e84-4df6-4d40-a410-3ea2e0fb1be4"
      },
      "source": [
        "df['Questions'][0]"
      ],
      "execution_count": 18,
      "outputs": [
        {
          "output_type": "execute_result",
          "data": {
            "application/vnd.google.colaboratory.intrinsic+json": {
              "type": "string"
            },
            "text/plain": [
              "'<start> what does it mean to have a mental illness ? <end>'"
            ]
          },
          "metadata": {
            "tags": []
          },
          "execution_count": 18
        }
      ]
    },
    {
      "cell_type": "code",
      "metadata": {
        "colab": {
          "base_uri": "https://localhost:8080/",
          "height": 154
        },
        "id": "_nazcQTP6vir",
        "outputId": "74f2e2f6-a849-4aa3-d3d6-a3c8178455b4"
      },
      "source": [
        "df['Answers'][0]"
      ],
      "execution_count": 19,
      "outputs": [
        {
          "output_type": "execute_result",
          "data": {
            "application/vnd.google.colaboratory.intrinsic+json": {
              "type": "string"
            },
            "text/plain": [
              "\"<start> mental illnesses are health conditions that disrupt a person's thoughts , emotions , relationships , and daily functioning . they are associated with distress and diminished capacity to engage in the ordinary activities of daily life . mental illnesses fall along a continuum of severity some are fairly mild and only interfere with some aspects of life , such as certain phobias . on the other end of the spectrum lie serious mental illnesses , which result in major functional impairment and interference with daily life . these include such disorders as major depression , schizophrenia , and bipolar disorder , and may require that the person receives care in a hospital . it is important to know that mental illnesses are medical conditions that have nothing to do with a person's character , intelligence , or willpower . just as diabetes is a disorder of the pancreas , mental illness is a medical condition due to the brain's biology . similarly to how one would treat diabetes with medication and insulin , mental illness is treatable with a combination of medication and social support . these treatments are highly effective , with percent of individuals receiving treatment experiencing a reduction in symptoms and an improved quality of life . with the proper treatment , it is very possible for a person with mental illness to be independent and successful . <end>\""
            ]
          },
          "metadata": {
            "tags": []
          },
          "execution_count": 19
        }
      ]
    },
    {
      "cell_type": "code",
      "metadata": {
        "id": "ZwX7q1N6CCf-"
      },
      "source": [
        "questions = df['Questions'].values.tolist()"
      ],
      "execution_count": 20,
      "outputs": []
    },
    {
      "cell_type": "code",
      "metadata": {
        "id": "bwzrN_H3AG6q"
      },
      "source": [
        "# We will tokenize all sentences (convert to numbers so that we can use them for prediction)\n",
        "\n",
        "tokenizer = tf.keras.preprocessing.text.Tokenizer(num_words=None, filters='', # list of characters\n",
        "                                                  lower=True)                 # to filter is empty\n",
        "tokenizer.fit_on_texts(questions)                                                # string\n",
        "\n",
        "questions_sequence = tokenizer.texts_to_sequences(questions)"
      ],
      "execution_count": 21,
      "outputs": []
    },
    {
      "cell_type": "code",
      "metadata": {
        "colab": {
          "base_uri": "https://localhost:8080/",
          "height": 0
        },
        "id": "LcpmntW38zoF",
        "outputId": "0296f4d6-5c61-465f-faeb-3002076728aa"
      },
      "source": [
        "len(tokenizer.word_counts)"
      ],
      "execution_count": 22,
      "outputs": [
        {
          "output_type": "execute_result",
          "data": {
            "text/plain": [
              "266"
            ]
          },
          "metadata": {
            "tags": []
          },
          "execution_count": 22
        }
      ]
    },
    {
      "cell_type": "code",
      "metadata": {
        "colab": {
          "base_uri": "https://localhost:8080/"
        },
        "id": "rN_1h0a0CaAA",
        "outputId": "3b6d43a3-d5fc-4714-d37a-d395ce599805"
      },
      "source": [
        "questions_sequence[10]"
      ],
      "execution_count": null,
      "outputs": [
        {
          "output_type": "execute_result",
          "data": {
            "text/plain": [
              "[1, 7, 4, 3, 9, 6, 8, 16, 68, 119, 18, 22, 49, 19, 120, 2]"
            ]
          },
          "metadata": {
            "tags": []
          },
          "execution_count": 45
        }
      ]
    },
    {
      "cell_type": "code",
      "metadata": {
        "colab": {
          "base_uri": "https://localhost:8080/"
        },
        "id": "n3uoy83xLArC",
        "outputId": "7a06d183-a63f-46fb-a13c-c27f97a047c0"
      },
      "source": [
        "len(questions)"
      ],
      "execution_count": null,
      "outputs": [
        {
          "output_type": "execute_result",
          "data": {
            "text/plain": [
              "98"
            ]
          },
          "metadata": {
            "tags": []
          },
          "execution_count": 46
        }
      ]
    },
    {
      "cell_type": "code",
      "metadata": {
        "id": "7oikJIjz_BGN"
      },
      "source": [
        "VOCAB_SIZE_QUESTIONS = len(tokenizer.word_counts) + 2"
      ],
      "execution_count": 23,
      "outputs": []
    },
    {
      "cell_type": "code",
      "metadata": {
        "id": "26pwYVKwCzXh"
      },
      "source": [
        "answers = df['Answers'].values.tolist()"
      ],
      "execution_count": 24,
      "outputs": []
    },
    {
      "cell_type": "code",
      "metadata": {
        "id": "GU9qN1X03uTU"
      },
      "source": [
        "# Tokenizer for answers\n",
        "\n",
        "tokenizer = tf.keras.preprocessing.text.Tokenizer(num_words=None, filters='', # list of characters\n",
        "                                                  lower=True)                 # to filter is empty\n",
        "tokenizer.fit_on_texts(answers)                                                # string\n",
        "\n",
        "answers_sequence = tokenizer.texts_to_sequences(answers)"
      ],
      "execution_count": 25,
      "outputs": []
    },
    {
      "cell_type": "code",
      "metadata": {
        "colab": {
          "base_uri": "https://localhost:8080/",
          "height": 0
        },
        "id": "hbAps6x--VLX",
        "outputId": "3b888dc3-4cfb-43e2-c5dd-58c0b4cf865d"
      },
      "source": [
        "len(tokenizer.word_counts)"
      ],
      "execution_count": 26,
      "outputs": [
        {
          "output_type": "execute_result",
          "data": {
            "text/plain": [
              "2706"
            ]
          },
          "metadata": {
            "tags": []
          },
          "execution_count": 26
        }
      ]
    },
    {
      "cell_type": "code",
      "metadata": {
        "id": "ucWZubfn-utg"
      },
      "source": [
        "VOCAB_SIZE_ANSWERS = len(tokenizer.word_counts) + 2"
      ],
      "execution_count": 27,
      "outputs": []
    },
    {
      "cell_type": "code",
      "metadata": {
        "colab": {
          "base_uri": "https://localhost:8080/",
          "height": 0
        },
        "id": "cZcPnjn1C-KP",
        "outputId": "e387a4d1-fd58-4e9a-c0b1-11ee82fed2d8"
      },
      "source": [
        "answers_sequence[10]"
      ],
      "execution_count": 31,
      "outputs": [
        {
          "output_type": "execute_result",
          "data": {
            "text/plain": [
              "[42,\n",
              " 201,\n",
              " 601,\n",
              " 17,\n",
              " 6,\n",
              " 121,\n",
              " 7,\n",
              " 9,\n",
              " 13,\n",
              " 173,\n",
              " 15,\n",
              " 278,\n",
              " 17,\n",
              " 15,\n",
              " 602,\n",
              " 3,\n",
              " 6,\n",
              " 1194,\n",
              " 8,\n",
              " 13,\n",
              " 60,\n",
              " 1,\n",
              " 220,\n",
              " 6,\n",
              " 121,\n",
              " 49,\n",
              " 185,\n",
              " 801,\n",
              " 13,\n",
              " 279,\n",
              " 23,\n",
              " 470,\n",
              " 39,\n",
              " 165,\n",
              " 1,\n",
              " 43]"
            ]
          },
          "metadata": {
            "tags": []
          },
          "execution_count": 31
        }
      ]
    },
    {
      "cell_type": "code",
      "metadata": {
        "colab": {
          "base_uri": "https://localhost:8080/",
          "height": 0
        },
        "id": "jo823nhZK407",
        "outputId": "05aced0e-8d58-46fd-e354-f137c123a762"
      },
      "source": [
        "len(answers)"
      ],
      "execution_count": 29,
      "outputs": [
        {
          "output_type": "execute_result",
          "data": {
            "text/plain": [
              "98"
            ]
          },
          "metadata": {
            "tags": []
          },
          "execution_count": 29
        }
      ]
    },
    {
      "cell_type": "code",
      "metadata": {
        "id": "B3Mj_qGA0lTI"
      },
      "source": [
        "# Create padding so that we keep the sequences at the same length and establish a max length\n",
        "MAX_LENGTH = 20\n",
        "\n",
        "questions = tf.keras.preprocessing.sequence.pad_sequences(questions_sequence,\n",
        "                                                       value=0,\n",
        "                                                       padding='post',\n",
        "                                                       maxlen=MAX_LENGTH)\n",
        "answers = tf.keras.preprocessing.sequence.pad_sequences(answers_sequence,\n",
        "                                                        value=0,\n",
        "                                                        padding='post',\n",
        "                                                        maxlen=MAX_LENGTH)"
      ],
      "execution_count": 32,
      "outputs": []
    },
    {
      "cell_type": "code",
      "metadata": {
        "colab": {
          "base_uri": "https://localhost:8080/",
          "height": 0
        },
        "id": "IixDHld9Ma_k",
        "outputId": "58c44490-8916-4c08-e573-e998a231a8f4"
      },
      "source": [
        "answers[0]"
      ],
      "execution_count": 33,
      "outputs": [
        {
          "output_type": "execute_result",
          "data": {
            "text/plain": [
              "array([1579,   60,    2,   24,   15,  119,  254,   12,    5,  111,   17,\n",
              "         20,   59,    3,   22,  932,    4, 1580,    1,   43], dtype=int32)"
            ]
          },
          "metadata": {
            "tags": []
          },
          "execution_count": 33
        }
      ]
    },
    {
      "cell_type": "code",
      "metadata": {
        "id": "zzu0zgEVhjdT"
      },
      "source": [
        "# Create the dataset, batch size and improve accessibility to data during training\n",
        "\n",
        "BUFFER_SIZE = 200\n",
        "BATCH_SIZE = 16\n",
        "dataset = tf.data.Dataset.from_tensor_slices((questions, answers))\n",
        "dataset = dataset.cache()\n",
        "dataset = dataset.shuffle(BUFFER_SIZE).batch(BATCH_SIZE)\n",
        "dataset = dataset.prefetch(tf.data.experimental.AUTOTUNE)"
      ],
      "execution_count": 35,
      "outputs": []
    },
    {
      "cell_type": "code",
      "metadata": {
        "colab": {
          "base_uri": "https://localhost:8080/",
          "height": 0
        },
        "id": "-AdHwbKk_snG",
        "outputId": "3943ce3a-013e-436f-a5fb-e5e841a35b43"
      },
      "source": [
        "dataset.element_spec"
      ],
      "execution_count": 41,
      "outputs": [
        {
          "output_type": "execute_result",
          "data": {
            "text/plain": [
              "(TensorSpec(shape=(None, 20), dtype=tf.int32, name=None),\n",
              " TensorSpec(shape=(None, 20), dtype=tf.int32, name=None))"
            ]
          },
          "metadata": {
            "tags": []
          },
          "execution_count": 41
        }
      ]
    },
    {
      "cell_type": "code",
      "metadata": {
        "id": "prv3cyno-T_p"
      },
      "source": [
        "path = os.path.join('/gdrive/My Drive/', \"attention_data\")"
      ],
      "execution_count": 42,
      "outputs": []
    },
    {
      "cell_type": "code",
      "metadata": {
        "id": "g2ezta68_LqG"
      },
      "source": [
        "tf.data.experimental.save(dataset, path)"
      ],
      "execution_count": 43,
      "outputs": []
    },
    {
      "cell_type": "code",
      "metadata": {
        "id": "Ak1R9lYMAT8R"
      },
      "source": [
        "\n",
        "\n",
        "new_dataset = tf.data.experimental.load(\n",
        "    path=path, compression=None, element_spec=dataset.element_spec)"
      ],
      "execution_count": 56,
      "outputs": []
    },
    {
      "cell_type": "code",
      "metadata": {
        "colab": {
          "base_uri": "https://localhost:8080/",
          "height": 0
        },
        "id": "XijdwYhkDBKz",
        "outputId": "43501cfc-cd4f-4116-93ba-e4eeca818816"
      },
      "source": [
        "new_dataset.element_spec"
      ],
      "execution_count": 58,
      "outputs": [
        {
          "output_type": "execute_result",
          "data": {
            "text/plain": [
              "(TensorSpec(shape=(None, 20), dtype=tf.int32, name=None),\n",
              " TensorSpec(shape=(None, 20), dtype=tf.int32, name=None))"
            ]
          },
          "metadata": {
            "tags": []
          },
          "execution_count": 58
        }
      ]
    }
  ]
}